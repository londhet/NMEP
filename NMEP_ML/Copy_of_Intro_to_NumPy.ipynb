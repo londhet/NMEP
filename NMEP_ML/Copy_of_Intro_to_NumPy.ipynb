{
  "cells": [
    {
      "cell_type": "markdown",
      "source": [
        "# How to Use This Homework:\n",
        "**This homework assignment is a Colab Notebook. Before running or editing anything, make a copy of the notebook. That way it will actually save the progress**\n",
        "\n"
      ],
      "metadata": {
        "id": "3wV8r6fT9kc6"
      }
    },
    {
      "cell_type": "markdown",
      "metadata": {
        "id": "Y15K5NNx8ak7"
      },
      "source": [
        "# Intro to Numpy\n",
        "\n",
        "## What is Numpy and why do we use it?\n",
        "\n",
        "It's an awesome python package that adds support for large, multi-dimensional arrays. Really good for vector operations, matrix operations because its super parallelized so its super fast!\n",
        "\n",
        "## Why not Python lists?\n",
        "\n",
        "Python lists have certain limitations: they don’t support “vectorized” operations like elementwise addition and multiplication, and the fact that they can contain objects of differing types mean that Python must store type information for every element, and must execute type dispatching code when operating on each element. This also means that very few list operations can be carried out by efficient C loops – each iteration would require type checks and other Python API bookkeeping.\n",
        "\n",
        "## Reading\n",
        "\n",
        "**REQUIRED**\n",
        "- [What is NumPy](https://numpy.org/doc/stable/user/whatisnumpy.html#whatisnumpy)\n",
        "\n",
        "**Highly highly recommended:**\n",
        "- [NumPy: the absolute basics for beginners](https://numpy.org/doc/stable/user/absolute_beginners.html)\n",
        "\n",
        "I you read those articles, feel free to skip all the way to the exercises at the bottom. If you don't like reading too much, however, we have also summarized the main topics in this notebook.\n",
        "\n"
      ]
    },
    {
      "cell_type": "markdown",
      "metadata": {
        "id": "P3TKsR4c8alB"
      },
      "source": [
        "### Importing numpy\n",
        "Functions for numerical computiing are provided by a separate module called `numpy` which we must import. Colab already has it installed so we don't need to invoke `pip` or `conda`.\n",
        "\n",
        "By convention, we import numpy using the alias `np`.\n",
        "\n",
        "Once we have done this we can prefix the functions in the numpy library using the prefix `np`."
      ]
    },
    {
      "cell_type": "code",
      "execution_count": 3,
      "metadata": {
        "id": "v2PBNhvg8alC"
      },
      "outputs": [],
      "source": [
        "# This is the de facto way to import NumPy. You probably don't want to write numpy.whatever every time\n",
        "import numpy as np"
      ]
    },
    {
      "cell_type": "markdown",
      "metadata": {
        "id": "LvkHK-fh8alG"
      },
      "source": [
        "### Numpy Arrays\n",
        "NumPy arrays are the workhorse of the library. A NumPy array is essentially a bunch of data coupled with some metadata. The two main properties of an array are:\n",
        "\n",
        "`dtype`: the type of objects in the array. This will typically be floating-point numbers for our purposes, but other types can be stored, for example `int`, `np.int32`, etc.\n",
        "\n",
        "`shape`: the dimensions of the array. This is given as a tuple, where element $i$ of the tuple tells you how the \"length\" of the array in the $i$th dimension. For example, a 10-dimensional vector would have shape (10,), a 32-by-100 matrix would have shape (32,100), etc.\n",
        "\n",
        "Let's see some examples! There are number of ways to construct arrays. One is to pass in a Python sequence (such as list or tuple) to the `np.array` function:"
      ]
    },
    {
      "cell_type": "code",
      "execution_count": 4,
      "metadata": {
        "colab": {
          "base_uri": "https://localhost:8080/"
        },
        "id": "U80LJuZ_8alG",
        "outputId": "a22f3e5e-7218-48af-a149-ca2500bb0541"
      },
      "outputs": [
        {
          "output_type": "execute_result",
          "data": {
            "text/plain": [
              "array([ 1. ,  2.3, -6. ])"
            ]
          },
          "metadata": {},
          "execution_count": 4
        }
      ],
      "source": [
        "np.array([1, 2.3, -6])"
      ]
    },
    {
      "cell_type": "markdown",
      "metadata": {
        "collapsed": true,
        "id": "By4XWHnb8alJ"
      },
      "source": [
        "We can also easily create ordered numerical lists!"
      ]
    },
    {
      "cell_type": "code",
      "execution_count": 5,
      "metadata": {
        "colab": {
          "base_uri": "https://localhost:8080/"
        },
        "id": "sIVqslQt8alJ",
        "outputId": "1cce978f-2504-400e-f200-5bdb6c3b8b5d"
      },
      "outputs": [
        {
          "output_type": "stream",
          "name": "stdout",
          "text": [
            "[0 1 2 3 4 5 6]\n",
            "[3 4 5 6 7 8]\n"
          ]
        }
      ],
      "source": [
        "# Remember we zero index so you will actually get 0 to 6!\n",
        "print(np.arange(7))\n",
        "# Remember the list wont include 9\n",
        "print(np.arange(3, 9))"
      ]
    },
    {
      "cell_type": "markdown",
      "metadata": {
        "id": "iCrqms7F8alK"
      },
      "source": [
        "We can also customize these list with a third paramter that specifices step size"
      ]
    },
    {
      "cell_type": "code",
      "execution_count": 6,
      "metadata": {
        "colab": {
          "base_uri": "https://localhost:8080/"
        },
        "id": "BQ_O0VHl8alK",
        "outputId": "dc5ab99a-1c0e-42b3-bba3-95128fe87e9e"
      },
      "outputs": [
        {
          "output_type": "execute_result",
          "data": {
            "text/plain": [
              "array([ 0., 10., 20., 30., 40., 50., 60., 70., 80., 90.])"
            ]
          },
          "metadata": {},
          "execution_count": 6
        }
      ],
      "source": [
        "np.arange(0.0, 100.0, 10.0)"
      ]
    },
    {
      "cell_type": "markdown",
      "metadata": {
        "id": "HQHJ4s5g8alL"
      },
      "source": [
        "To create a multi-dimensional array, we'll need to nest the sequences:"
      ]
    },
    {
      "cell_type": "code",
      "execution_count": 7,
      "metadata": {
        "colab": {
          "base_uri": "https://localhost:8080/"
        },
        "id": "GPZN5TJe8alM",
        "outputId": "ba3c69e3-66b0-4081-d747-63e40c625844"
      },
      "outputs": [
        {
          "output_type": "execute_result",
          "data": {
            "text/plain": [
              "array([[ 1. ,  2.3, -6. ],\n",
              "       [ 7. ,  8. ,  9. ]])"
            ]
          },
          "metadata": {},
          "execution_count": 7
        }
      ],
      "source": [
        "np.array([[1, 2.3, -6], [7, 8, 9]])"
      ]
    },
    {
      "cell_type": "markdown",
      "metadata": {
        "id": "ZANALr088alM"
      },
      "source": [
        "Neat!\n",
        "\n",
        "There are also many convenience functions for constructing special arrays. Here are some that might be useful:"
      ]
    },
    {
      "cell_type": "code",
      "execution_count": 8,
      "metadata": {
        "colab": {
          "base_uri": "https://localhost:8080/"
        },
        "id": "_3ZnL0nl8alQ",
        "outputId": "99e0427f-f16f-4c1e-885d-ca81c19c0ebf"
      },
      "outputs": [
        {
          "output_type": "execute_result",
          "data": {
            "text/plain": [
              "(array([[0., 0., 0., 0.],\n",
              "        [0., 0., 0., 0.],\n",
              "        [0., 0., 0., 0.],\n",
              "        [0., 0., 0., 0.],\n",
              "        [0., 0., 0., 0.],\n",
              "        [0., 0., 0., 0.],\n",
              "        [0., 0., 0., 0.],\n",
              "        [0., 0., 0., 0.]]),\n",
              " array([1., 1., 1.]))"
            ]
          },
          "metadata": {},
          "execution_count": 8
        }
      ],
      "source": [
        "#An array of all zeros or ones with the given shape\n",
        "np.zeros((8,4)), np.ones(3)"
      ]
    },
    {
      "cell_type": "code",
      "execution_count": 9,
      "metadata": {
        "colab": {
          "base_uri": "https://localhost:8080/"
        },
        "id": "Sc2cOfVj8alR",
        "outputId": "760a02c4-9904-4370-ccf5-434e3620ff23"
      },
      "outputs": [
        {
          "output_type": "execute_result",
          "data": {
            "text/plain": [
              "array([[2.1, 2.1, 2.1, 2.1],\n",
              "       [2.1, 2.1, 2.1, 2.1],\n",
              "       [2.1, 2.1, 2.1, 2.1]])"
            ]
          },
          "metadata": {},
          "execution_count": 9
        }
      ],
      "source": [
        "# An array with a given shape full of a specified value\n",
        "np.full((3,4), 2.1)"
      ]
    },
    {
      "cell_type": "code",
      "execution_count": 10,
      "metadata": {
        "colab": {
          "base_uri": "https://localhost:8080/"
        },
        "id": "8L-IMNqi8alN",
        "outputId": "23d53dff-f682-479a-a497-e49ec5e21e6d"
      },
      "outputs": [
        {
          "output_type": "execute_result",
          "data": {
            "text/plain": [
              "array([[1., 0., 0., 0., 0., 0., 0.],\n",
              "       [0., 1., 0., 0., 0., 0., 0.],\n",
              "       [0., 0., 1., 0., 0., 0., 0.],\n",
              "       [0., 0., 0., 1., 0., 0., 0.],\n",
              "       [0., 0., 0., 0., 1., 0., 0.],\n",
              "       [0., 0., 0., 0., 0., 1., 0.],\n",
              "       [0., 0., 0., 0., 0., 0., 1.]])"
            ]
          },
          "metadata": {},
          "execution_count": 10
        }
      ],
      "source": [
        "# The identity matrix of given size\n",
        "np.eye(7)"
      ]
    },
    {
      "cell_type": "code",
      "execution_count": 11,
      "metadata": {
        "colab": {
          "base_uri": "https://localhost:8080/"
        },
        "id": "6CZkAwiJ8alO",
        "outputId": "7d1389ad-b812-4eba-e8e1-cdb00de1dc68"
      },
      "outputs": [
        {
          "output_type": "execute_result",
          "data": {
            "text/plain": [
              "array([[1.1, 0. , 0. ],\n",
              "       [0. , 2.2, 0. ],\n",
              "       [0. , 0. , 3.3]])"
            ]
          },
          "metadata": {},
          "execution_count": 11
        }
      ],
      "source": [
        "# A matrix with the given vector on the diagonal\n",
        "np.diag([1.1,2.2,3.3])\n"
      ]
    },
    {
      "cell_type": "code",
      "execution_count": 12,
      "metadata": {
        "colab": {
          "base_uri": "https://localhost:8080/"
        },
        "id": "mMCtQViL8alS",
        "outputId": "2f6e9014-76aa-46cf-d188-b150e74d0c9c"
      },
      "outputs": [
        {
          "output_type": "execute_result",
          "data": {
            "text/plain": [
              "array([[-1.89576886, -1.65887738,  0.36925875, -0.74130625, -0.55524281,\n",
              "         0.31541535],\n",
              "       [-1.04518282,  0.77514931, -0.92447619,  0.48236835,  0.20342853,\n",
              "        -2.00170324],\n",
              "       [ 0.13437998, -0.38466175,  0.66564713,  0.22956649,  1.3227259 ,\n",
              "        -0.20820408],\n",
              "       [-1.40924987,  1.63825379, -0.37409388,  0.74782247,  0.06987504,\n",
              "        -0.01534398],\n",
              "       [ 0.41449274,  0.70765922,  0.29428514, -0.16091112,  0.16006364,\n",
              "         1.78275278]])"
            ]
          },
          "metadata": {},
          "execution_count": 12
        }
      ],
      "source": [
        "# A random (standard normal distribution) array with the given shape\n",
        "np.random.randn(5,6)"
      ]
    },
    {
      "cell_type": "markdown",
      "metadata": {
        "id": "nkG-oO-98alU"
      },
      "source": [
        "Okay now let's suppose we have some data in an array so we can start doing stuff with it.\n"
      ]
    },
    {
      "cell_type": "code",
      "execution_count": 13,
      "metadata": {
        "colab": {
          "base_uri": "https://localhost:8080/"
        },
        "id": "QwhuxbHn8alU",
        "outputId": "d0390805-074b-45bd-86b6-bc4ce9d8f627"
      },
      "outputs": [
        {
          "output_type": "execute_result",
          "data": {
            "text/plain": [
              "(array([[ 1.93295478,  0.50513032,  0.5150377 , -0.07988994, -0.02908465],\n",
              "        [-1.28722069,  1.97604338,  0.09556937, -2.01196134, -1.25657135],\n",
              "        [ 0.0684939 ,  1.76167023, -0.75613278,  0.34928731, -0.04810378],\n",
              "        [-0.97352568, -1.08357718,  0.71205074,  0.36193614, -1.00742037],\n",
              "        [ 1.19143367,  0.53898646,  0.94565797, -0.10499245, -0.89607169],\n",
              "        [-0.23579774, -0.62646151,  0.14724125, -1.57615218,  1.92589738],\n",
              "        [-0.05107223,  0.42266204, -0.28585019,  0.03345097,  1.25861382],\n",
              "        [ 0.71380259, -0.07006557,  0.21135553, -0.25882412,  1.66248705],\n",
              "        [-1.35852887, -1.19310023, -0.07357996, -0.31711835, -2.47161484],\n",
              "        [-1.49234004, -2.89480897,  1.52339994,  0.85025343,  1.66827145]]),\n",
              " array([-0.62083025,  0.14993357,  0.92205079,  0.99306441, -0.2546917 ]))"
            ]
          },
          "metadata": {},
          "execution_count": 13
        }
      ],
      "source": [
        "A = np.random.randn(10,5); x = np.random.randn(5)\n",
        "A, x"
      ]
    },
    {
      "cell_type": "markdown",
      "metadata": {
        "id": "QSFV-Skg8alW"
      },
      "source": [
        "One useful thing that NumPy lets us do efficiently is apply the same function to every element in an array. You'll often need to e.g. exponentiate a bunch of values, but if you use a list comprehension or map with the builtin Python math functions it may be really slow. Instead just write"
      ]
    },
    {
      "cell_type": "code",
      "execution_count": 14,
      "metadata": {
        "colab": {
          "base_uri": "https://localhost:8080/"
        },
        "id": "SyPpFPm08alW",
        "outputId": "e8c302ed-f157-46ca-eb6e-acfa22836dea"
      },
      "outputs": [
        {
          "output_type": "execute_result",
          "data": {
            "text/plain": [
              "array([[6.90989735, 1.65720148, 1.6737016 , 0.92321795, 0.97133424],\n",
              "       [0.27603691, 7.21414279, 1.10028515, 0.13372613, 0.28462825],\n",
              "       [1.07089409, 5.82215364, 0.4694785 , 1.41805655, 0.95303488],\n",
              "       [0.37774887, 0.3383829 , 2.03816673, 1.43610723, 0.36515974],\n",
              "       [3.29179719, 1.7142685 , 2.57450678, 0.90033132, 0.40816993],\n",
              "       [0.78994043, 0.53447971, 1.15863345, 0.20676918, 6.86130307],\n",
              "       [0.95021003, 1.52601848, 0.75137517, 1.03401674, 3.520538  ],\n",
              "       [2.04174043, 0.93233268, 1.23535148, 0.77195878, 5.27240728],\n",
              "       [0.25703864, 0.30327957, 0.92906185, 0.72824456, 0.08444838],\n",
              "       [0.22484589, 0.05530959, 4.58779694, 2.34023987, 5.30299339]])"
            ]
          },
          "metadata": {},
          "execution_count": 14
        }
      ],
      "source": [
        "# log, sin, cos, etc. work similarly\n",
        "np.exp(A)"
      ]
    },
    {
      "cell_type": "markdown",
      "metadata": {
        "id": "u-XUzDYs8alX"
      },
      "source": [
        "We can take the sum/mean/standard deviation/etc. of all the elements in an array:"
      ]
    },
    {
      "cell_type": "code",
      "execution_count": 15,
      "metadata": {
        "colab": {
          "base_uri": "https://localhost:8080/"
        },
        "id": "e7PRWcOE8alX",
        "outputId": "534ffe5e-cdf3-463f-86a9-0da2f1c3860f"
      },
      "outputs": [
        {
          "output_type": "execute_result",
          "data": {
            "text/plain": [
              "(1.1895268144752027, 0.23790536289504055, 0.6365748833292083)"
            ]
          },
          "metadata": {},
          "execution_count": 15
        }
      ],
      "source": [
        "np.sum(x), np.mean(x), np.std(x)"
      ]
    },
    {
      "cell_type": "code",
      "source": [
        "# L2 norm of a matrix, or along a certain dimension\n",
        "C = np.array([\n",
        "              [-1,0],\n",
        "              [1, 1]\n",
        "              ])\n",
        "np.linalg.norm(C, ord=2), np.linalg.norm(C, axis=0), np.linalg.norm(C, axis=1)"
      ],
      "metadata": {
        "colab": {
          "base_uri": "https://localhost:8080/"
        },
        "id": "kj_mDsA6C_FU",
        "outputId": "7c13cec3-2b18-499c-8add-63cbc7c35eca"
      },
      "execution_count": 16,
      "outputs": [
        {
          "output_type": "execute_result",
          "data": {
            "text/plain": [
              "(1.6180339887498951,\n",
              " array([1.41421356, 1.        ]),\n",
              " array([1.        , 1.41421356]))"
            ]
          },
          "metadata": {},
          "execution_count": 16
        }
      ]
    },
    {
      "cell_type": "markdown",
      "metadata": {
        "id": "J2_LT2-v8alY"
      },
      "source": [
        "You can also specify an axis over which to compute the sum if you want a vector of row/column sums (again, sum here can be replaced with mean or other operations):"
      ]
    },
    {
      "cell_type": "code",
      "execution_count": 17,
      "metadata": {
        "colab": {
          "base_uri": "https://localhost:8080/"
        },
        "id": "thcubgNh8alY",
        "outputId": "61bdb3a5-d4e4-4f18-ec1b-ed01a92eac3e"
      },
      "outputs": [
        {
          "output_type": "execute_result",
          "data": {
            "text/plain": [
              "(array([[0, 1],\n",
              "        [2, 3]]),\n",
              " array([2, 4]),\n",
              " array([1, 5]))"
            ]
          },
          "metadata": {},
          "execution_count": 17
        }
      ],
      "source": [
        "# Create an array with numbers in the range 0,...,3 (similar to the normal Python range function,\n",
        "# but it returns a NumPy array) and then reshape it to a 2x2 matrix\n",
        "B = np.arange(4).reshape((2,2))\n",
        "\n",
        "# Original matrix, column sum, row sum\n",
        "B, np.sum(B, axis=0), np.sum(B, axis=1)"
      ]
    },
    {
      "cell_type": "markdown",
      "metadata": {
        "id": "MPWU_rp48alZ"
      },
      "source": [
        "### Linear Algebra\n",
        "By now we have a pretty good idea of how data is stored and accessed within NumPy arrays. But we typically want to do something more \"interesting\", which for our ML purposes usually means linear algebra operations. Fortunately, numpy has good support for such routines. Let's see some examples!"
      ]
    },
    {
      "cell_type": "code",
      "execution_count": 18,
      "metadata": {
        "colab": {
          "base_uri": "https://localhost:8080/"
        },
        "id": "eoevxHAp8ala",
        "outputId": "a603dbf7-bbcc-41dc-dc04-563765023964"
      },
      "outputs": [
        {
          "output_type": "execute_result",
          "data": {
            "text/plain": [
              "array([[0, 2],\n",
              "       [1, 3]])"
            ]
          },
          "metadata": {},
          "execution_count": 18
        }
      ],
      "source": [
        "# Transpose a matrix\n",
        "B.T"
      ]
    },
    {
      "cell_type": "code",
      "execution_count": 19,
      "metadata": {
        "colab": {
          "base_uri": "https://localhost:8080/"
        },
        "id": "12jDsNsh8alZ",
        "outputId": "3d546eec-1a7a-4a00-8dfb-fb9994f6c43d"
      },
      "outputs": [
        {
          "output_type": "execute_result",
          "data": {
            "text/plain": [
              "array([-0.72133814, -0.49442832, -0.11646599,  1.71448405,  0.33703653,\n",
              "       -1.86750403, -0.4558295 , -0.93922557,  0.91126642,  2.31657447])"
            ]
          },
          "metadata": {},
          "execution_count": 19
        }
      ],
      "source": [
        "# Matrix-vector product. The dimensions have to match, of course\n",
        "A.dot(x)\n",
        "# Note that in Python3 there is also a slick notation A @ x which does the same thing"
      ]
    },
    {
      "cell_type": "code",
      "source": [
        "# Matrix multiplication\n",
        "np.matmul(B, B)"
      ],
      "metadata": {
        "colab": {
          "base_uri": "https://localhost:8080/"
        },
        "id": "jEr_7ZOpCxVK",
        "outputId": "5ab7c65c-59fd-4c69-e64e-4319e61b590d"
      },
      "execution_count": 20,
      "outputs": [
        {
          "output_type": "execute_result",
          "data": {
            "text/plain": [
              "array([[ 2,  3],\n",
              "       [ 6, 11]])"
            ]
          },
          "metadata": {},
          "execution_count": 20
        }
      ]
    },
    {
      "cell_type": "code",
      "source": [
        "# Cooler syntax\n",
        "B @ B"
      ],
      "metadata": {
        "colab": {
          "base_uri": "https://localhost:8080/"
        },
        "id": "unSuZIcrD1Sy",
        "outputId": "672f00d3-4c32-40fa-a626-bac628ded832"
      },
      "execution_count": 21,
      "outputs": [
        {
          "output_type": "execute_result",
          "data": {
            "text/plain": [
              "array([[ 2,  3],\n",
              "       [ 6, 11]])"
            ]
          },
          "metadata": {},
          "execution_count": 21
        }
      ]
    },
    {
      "cell_type": "markdown",
      "metadata": {
        "id": "VqkcQUuM8alb"
      },
      "source": [
        "Now that you're familiar with numpy feel free to check out the documentation and see what else you can do! Documentation can be found here: https://docs.scipy.org/doc/ or https://numpy.org/doc/"
      ]
    },
    {
      "cell_type": "markdown",
      "source": [
        "---"
      ],
      "metadata": {
        "id": "KwmyIczYOWGl"
      }
    },
    {
      "cell_type": "markdown",
      "metadata": {
        "collapsed": true,
        "id": "k7BppAMu8alc"
      },
      "source": [
        "# Exercises"
      ]
    },
    {
      "cell_type": "markdown",
      "source": [
        "## Basic Problems\n",
        "\n",
        "Lets try out all the new numpy stuff we just learned! Even if you have experience in numpy we suggest trying these out."
      ],
      "metadata": {
        "id": "D_MsuPkk7rEX"
      }
    },
    {
      "cell_type": "markdown",
      "metadata": {
        "id": "guTkvTyl8alT"
      },
      "source": [
        "Okay your turn! In the cell belows try and create:\n",
        "\n",
        "\n",
        "<b>0) A diagonal matrix with values from 1-20 (try and create this and only type two numbers!)</b>"
      ]
    },
    {
      "cell_type": "code",
      "execution_count": 22,
      "metadata": {
        "id": "O7GTycf-8alU",
        "colab": {
          "base_uri": "https://localhost:8080/"
        },
        "outputId": "2f704a38-19e9-4a00-b6c0-4c1e8adc5ed4"
      },
      "outputs": [
        {
          "output_type": "execute_result",
          "data": {
            "text/plain": [
              "array([[ 1,  0,  0,  0,  0,  0,  0,  0,  0,  0,  0,  0,  0,  0,  0,  0,\n",
              "         0,  0,  0,  0],\n",
              "       [ 0,  2,  0,  0,  0,  0,  0,  0,  0,  0,  0,  0,  0,  0,  0,  0,\n",
              "         0,  0,  0,  0],\n",
              "       [ 0,  0,  3,  0,  0,  0,  0,  0,  0,  0,  0,  0,  0,  0,  0,  0,\n",
              "         0,  0,  0,  0],\n",
              "       [ 0,  0,  0,  4,  0,  0,  0,  0,  0,  0,  0,  0,  0,  0,  0,  0,\n",
              "         0,  0,  0,  0],\n",
              "       [ 0,  0,  0,  0,  5,  0,  0,  0,  0,  0,  0,  0,  0,  0,  0,  0,\n",
              "         0,  0,  0,  0],\n",
              "       [ 0,  0,  0,  0,  0,  6,  0,  0,  0,  0,  0,  0,  0,  0,  0,  0,\n",
              "         0,  0,  0,  0],\n",
              "       [ 0,  0,  0,  0,  0,  0,  7,  0,  0,  0,  0,  0,  0,  0,  0,  0,\n",
              "         0,  0,  0,  0],\n",
              "       [ 0,  0,  0,  0,  0,  0,  0,  8,  0,  0,  0,  0,  0,  0,  0,  0,\n",
              "         0,  0,  0,  0],\n",
              "       [ 0,  0,  0,  0,  0,  0,  0,  0,  9,  0,  0,  0,  0,  0,  0,  0,\n",
              "         0,  0,  0,  0],\n",
              "       [ 0,  0,  0,  0,  0,  0,  0,  0,  0, 10,  0,  0,  0,  0,  0,  0,\n",
              "         0,  0,  0,  0],\n",
              "       [ 0,  0,  0,  0,  0,  0,  0,  0,  0,  0, 11,  0,  0,  0,  0,  0,\n",
              "         0,  0,  0,  0],\n",
              "       [ 0,  0,  0,  0,  0,  0,  0,  0,  0,  0,  0, 12,  0,  0,  0,  0,\n",
              "         0,  0,  0,  0],\n",
              "       [ 0,  0,  0,  0,  0,  0,  0,  0,  0,  0,  0,  0, 13,  0,  0,  0,\n",
              "         0,  0,  0,  0],\n",
              "       [ 0,  0,  0,  0,  0,  0,  0,  0,  0,  0,  0,  0,  0, 14,  0,  0,\n",
              "         0,  0,  0,  0],\n",
              "       [ 0,  0,  0,  0,  0,  0,  0,  0,  0,  0,  0,  0,  0,  0, 15,  0,\n",
              "         0,  0,  0,  0],\n",
              "       [ 0,  0,  0,  0,  0,  0,  0,  0,  0,  0,  0,  0,  0,  0,  0, 16,\n",
              "         0,  0,  0,  0],\n",
              "       [ 0,  0,  0,  0,  0,  0,  0,  0,  0,  0,  0,  0,  0,  0,  0,  0,\n",
              "        17,  0,  0,  0],\n",
              "       [ 0,  0,  0,  0,  0,  0,  0,  0,  0,  0,  0,  0,  0,  0,  0,  0,\n",
              "         0, 18,  0,  0],\n",
              "       [ 0,  0,  0,  0,  0,  0,  0,  0,  0,  0,  0,  0,  0,  0,  0,  0,\n",
              "         0,  0, 19,  0],\n",
              "       [ 0,  0,  0,  0,  0,  0,  0,  0,  0,  0,  0,  0,  0,  0,  0,  0,\n",
              "         0,  0,  0, 20]])"
            ]
          },
          "metadata": {},
          "execution_count": 22
        }
      ],
      "source": [
        "np.diag(np.arange(1,21))"
      ]
    },
    {
      "cell_type": "markdown",
      "metadata": {
        "id": "OkWvsOi38ale"
      },
      "source": [
        "<b>1) Create a vector of size 10 containing zeros </b>"
      ]
    },
    {
      "cell_type": "code",
      "execution_count": 23,
      "metadata": {
        "id": "k14Tidf68alh",
        "colab": {
          "base_uri": "https://localhost:8080/"
        },
        "outputId": "3473e6ce-8aac-4c7d-f30f-a65467821cfd"
      },
      "outputs": [
        {
          "output_type": "execute_result",
          "data": {
            "text/plain": [
              "array([0., 0., 0., 0., 0., 0., 0., 0., 0., 0.])"
            ]
          },
          "metadata": {},
          "execution_count": 23
        }
      ],
      "source": [
        "x = np.zeros(10)\n",
        "x"
      ]
    },
    {
      "cell_type": "markdown",
      "metadata": {
        "id": "asWdTJnv8ali"
      },
      "source": [
        "<b>2) Now change the fifth value to be 5 </b>"
      ]
    },
    {
      "cell_type": "code",
      "execution_count": 24,
      "metadata": {
        "id": "I7WwFvaq8alj",
        "colab": {
          "base_uri": "https://localhost:8080/"
        },
        "outputId": "bb29daf3-4acf-412b-f2a8-60cef22f94e7"
      },
      "outputs": [
        {
          "output_type": "execute_result",
          "data": {
            "text/plain": [
              "array([0., 0., 0., 0., 5., 0., 0., 0., 0., 0.])"
            ]
          },
          "metadata": {},
          "execution_count": 24
        }
      ],
      "source": [
        "x[4] = 5\n",
        "x"
      ]
    },
    {
      "cell_type": "markdown",
      "metadata": {
        "id": "lgBPsEDC8all"
      },
      "source": [
        "<b>3) Create a vector with values ranging from 10 to 49</b>"
      ]
    },
    {
      "cell_type": "code",
      "execution_count": 25,
      "metadata": {
        "id": "F3o7_Vc68all",
        "colab": {
          "base_uri": "https://localhost:8080/"
        },
        "outputId": "64c933cb-444a-4103-a40f-2fc57c9ccb83"
      },
      "outputs": [
        {
          "output_type": "execute_result",
          "data": {
            "text/plain": [
              "array([10, 11, 12, 13, 14, 15, 16, 17, 18, 19, 20, 21, 22, 23, 24, 25, 26,\n",
              "       27, 28, 29, 30, 31, 32, 33, 34, 35, 36, 37, 38, 39, 40, 41, 42, 43,\n",
              "       44, 45, 46, 47, 48, 49])"
            ]
          },
          "metadata": {},
          "execution_count": 25
        }
      ],
      "source": [
        "b = np.arange(10,50)\n",
        "b"
      ]
    },
    {
      "cell_type": "markdown",
      "metadata": {
        "id": "m1DNrHNZ8aln"
      },
      "source": [
        "<b>4) Reverse the previous vector (first element becomes last)</b>"
      ]
    },
    {
      "cell_type": "code",
      "execution_count": 26,
      "metadata": {
        "id": "wBI2GY-H8aln",
        "colab": {
          "base_uri": "https://localhost:8080/"
        },
        "outputId": "436990b2-9c89-40a1-8a3e-d39c6eed8716"
      },
      "outputs": [
        {
          "output_type": "execute_result",
          "data": {
            "text/plain": [
              "array([49, 48, 47, 46, 45, 44, 43, 42, 41, 40, 39, 38, 37, 36, 35, 34, 33,\n",
              "       32, 31, 30, 29, 28, 27, 26, 25, 24, 23, 22, 21, 20, 19, 18, 17, 16,\n",
              "       15, 14, 13, 12, 11, 10])"
            ]
          },
          "metadata": {},
          "execution_count": 26
        }
      ],
      "source": [
        "reverse_vec = np.flip(b)\n",
        "reverse_vec"
      ]
    },
    {
      "cell_type": "markdown",
      "metadata": {
        "id": "DOvg0YrU8alp"
      },
      "source": [
        "<b>5) Create a 3x3 matrix with values ranging from 0 to 8. Create a 1D array first and then resshape it</b>"
      ]
    },
    {
      "cell_type": "code",
      "execution_count": 27,
      "metadata": {
        "id": "brDH0eE58alr",
        "colab": {
          "base_uri": "https://localhost:8080/"
        },
        "outputId": "b4b7018c-7e41-4eb7-e1cd-34e815e111ad"
      },
      "outputs": [
        {
          "output_type": "execute_result",
          "data": {
            "text/plain": [
              "array([[0, 1, 2],\n",
              "       [3, 4, 5],\n",
              "       [6, 7, 8]])"
            ]
          },
          "metadata": {},
          "execution_count": 27
        }
      ],
      "source": [
        "m = np.arange(9).reshape((3,3))\n",
        "m"
      ]
    },
    {
      "cell_type": "markdown",
      "metadata": {
        "id": "g6BRW9gP8alr"
      },
      "source": [
        "<b>6) Create a 3x3x3 array with random values</b>"
      ]
    },
    {
      "cell_type": "code",
      "execution_count": 28,
      "metadata": {
        "id": "8h5No3At8als",
        "colab": {
          "base_uri": "https://localhost:8080/"
        },
        "outputId": "381bb3d8-5238-4679-c7d2-2da176777b0d"
      },
      "outputs": [
        {
          "output_type": "execute_result",
          "data": {
            "text/plain": [
              "array([[[ 1.11757664, -0.77020328, -1.21331369],\n",
              "        [ 0.66674631,  0.02606553, -0.41485296],\n",
              "        [-0.36432127,  0.52842226,  0.33373055]],\n",
              "\n",
              "       [[ 0.66325495, -1.61235117,  0.25740317],\n",
              "        [-1.75212606,  0.03091511, -1.12062336],\n",
              "        [ 0.9173807 , -0.18474417,  0.43077397]],\n",
              "\n",
              "       [[-0.32182708, -1.02773558, -1.76491171],\n",
              "        [-0.82796623, -0.99323524, -0.71126555],\n",
              "        [ 0.08920258, -0.64544393,  1.44043274]]])"
            ]
          },
          "metadata": {},
          "execution_count": 28
        }
      ],
      "source": [
        "A = np.random.randn(3,3,3)\n",
        "A"
      ]
    },
    {
      "cell_type": "markdown",
      "metadata": {
        "id": "VhnoX9qV8als"
      },
      "source": [
        "<b>7) Create a random array and find the sum, mean, and standard deviation</b>"
      ]
    },
    {
      "cell_type": "code",
      "execution_count": 29,
      "metadata": {
        "id": "hTWfeWes8als",
        "colab": {
          "base_uri": "https://localhost:8080/"
        },
        "outputId": "335f1d8b-67b4-4066-ceab-93e488494fd1"
      },
      "outputs": [
        {
          "output_type": "execute_result",
          "data": {
            "text/plain": [
              "array([-2.02334299,  1.05140933, -0.28534294,  1.5630726 ])"
            ]
          },
          "metadata": {},
          "execution_count": 29
        }
      ],
      "source": [
        "rand_arr = np.random.randn(4)\n",
        "rand_arr_sum =  np.sum(rand_arr)\n",
        "rand_arr_mean = np.mean(rand_arr)\n",
        "rand_arr_std = np.std(rand_arr)\n",
        "rand_arr"
      ]
    },
    {
      "cell_type": "markdown",
      "source": [
        "**8) Standardise the array above using the mean and standard deviation from above**"
      ],
      "metadata": {
        "id": "oLWJuM7F9ALm"
      }
    },
    {
      "cell_type": "code",
      "source": [
        "rand_arr_sd = (rand_arr - rand_arr_sum)/rand_arr_std\n",
        "rand_arr_sd"
      ],
      "metadata": {
        "id": "BPy368ZA9L4K",
        "colab": {
          "base_uri": "https://localhost:8080/"
        },
        "outputId": "afa1434c-e932-49b4-840a-27ec8ae1a9b5"
      },
      "execution_count": 30,
      "outputs": [
        {
          "output_type": "execute_result",
          "data": {
            "text/plain": [
              "array([-1.67865958,  0.53737925, -0.4260463 ,  0.90614576])"
            ]
          },
          "metadata": {},
          "execution_count": 30
        }
      ]
    },
    {
      "cell_type": "markdown",
      "source": [
        "## Linear Regression\n",
        "\n",
        "In this exercise we will do 2D linear regression without bias. As a refresher - in linear regression we essentially have:\n",
        "1. Data matrix $X$ - input data, just the x coordinates in our case\n",
        "2. Labels matrix $b$ - output data, just y coordinates in our case\n",
        "3. Weights matrix $w$ - the weights matrix. In our case just the slope scalar\n",
        "\n",
        "The variables play together as:\n",
        "\n",
        "$$ b = Xw $$\n",
        "\n",
        "And since X is not invertible (it is likely not square), the solution is:\n",
        "\n",
        "$$ w = (X^T X)^{-1} X^T b $$\n",
        "\n",
        "### What are the dimensions of each matrix?\n",
        "**Say that we have m data points, then $X$ is $mx1$. $ X^T$ will be $1xm$. $b$ will be of dimension $m$.**"
      ],
      "metadata": {
        "id": "6miZUi-5sU5O"
      }
    },
    {
      "cell_type": "markdown",
      "source": [
        "### First create data to do linear regression on"
      ],
      "metadata": {
        "id": "pbzKjh0t59z2"
      }
    },
    {
      "cell_type": "code",
      "source": [
        "# matplotlib for plotting\n",
        "import matplotlib.pyplot as plt"
      ],
      "metadata": {
        "id": "dxt5Y8Cy6IGR"
      },
      "execution_count": 34,
      "outputs": []
    },
    {
      "cell_type": "code",
      "source": [
        "# sample 50 2D points from a normal distribution\n",
        "# use mean 0\n",
        "# use standard deviation of 5 along the x axis and 1 along the y axis to\n",
        "# essentially sample noisy points along a horizontal line\n",
        "mean = [0,0]\n",
        "std = [5,1]\n",
        "size = (50,2)\n",
        "data = np.random.normal(mean,std,size)\n",
        "\n",
        "# skew the line vertically by a random amount\n",
        "data[:, 1] += np.random.randn()\n",
        "\n",
        "# this is just to plot the data\n",
        "plt.scatter(*data.T)\n",
        "plt.axis('equal')\n",
        "plt.axhline(0, color='lightgray')\n",
        "plt.axvline(0, color='lightgray')"
      ],
      "metadata": {
        "colab": {
          "base_uri": "https://localhost:8080/",
          "height": 448
        },
        "id": "Sohjo2wMEbsN",
        "outputId": "7d70ee88-6c36-4d05-c82b-05b8fe32b2a6"
      },
      "execution_count": 45,
      "outputs": [
        {
          "output_type": "execute_result",
          "data": {
            "text/plain": [
              "<matplotlib.lines.Line2D at 0x7a09db7d7400>"
            ]
          },
          "metadata": {},
          "execution_count": 45
        },
        {
          "output_type": "display_data",
          "data": {
            "text/plain": [
              "<Figure size 640x480 with 1 Axes>"
            ],
            "image/png": "[encoded data removed]"
          },
          "metadata": {}
        }
      ]
    },
    {
      "cell_type": "markdown",
      "source": [
        "### Perform linear regression"
      ],
      "metadata": {
        "id": "Kp9pfqRR7ODl"
      }
    },
    {
      "cell_type": "code",
      "source": [
        "X = data[:,0:1]\n",
        "b = data[:,1:2]\n",
        "w = (np.linalg.inv(X.T @ X))@ X.T @ b\n",
        "X.shape, b.shape, w"
      ],
      "metadata": {
        "id": "wkGcTrCIENHN",
        "colab": {
          "base_uri": "https://localhost:8080/"
        },
        "outputId": "caf5f506-0462-4dd9-b3e9-ebdbeb19aaf3"
      },
      "execution_count": 46,
      "outputs": [
        {
          "output_type": "execute_result",
          "data": {
            "text/plain": [
              "((50, 1), (50, 1), array([[-0.07055296]]))"
            ]
          },
          "metadata": {},
          "execution_count": 46
        }
      ]
    },
    {
      "cell_type": "code",
      "source": [
        "plt.scatter(*data.T)\n",
        "plt.plot([X.min(), X.max()], np.array([X.min() * w, X.max() * w]).flatten(), color='red')\n",
        "plt.axis('equal')\n",
        "plt.axhline(0, color='lightgray')\n",
        "plt.axvline(0, color='lightgray')"
      ],
      "metadata": {
        "id": "sPcW350pEOuy",
        "colab": {
          "base_uri": "https://localhost:8080/",
          "height": 448
        },
        "outputId": "2eb02ee5-11f6-40f7-bf59-41b504adfbfb"
      },
      "execution_count": 47,
      "outputs": [
        {
          "output_type": "execute_result",
          "data": {
            "text/plain": [
              "<matplotlib.lines.Line2D at 0x7a09db640c70>"
            ]
          },
          "metadata": {},
          "execution_count": 47
        },
        {
          "output_type": "display_data",
          "data": {
            "text/plain": [
              "<Figure size 640x480 with 1 Axes>"
            ],
            "image/png": "[encoded data removed]"
          },
          "metadata": {}
        }
      ]
    },
    {
      "cell_type": "markdown",
      "source": [
        "# Submitting\n",
        "\n",
        "To submit, download the file as `.ipynb` and upload it to the correct assignment on Gradescope."
      ],
      "metadata": {
        "id": "lQRv8zCwkPI7"
      }
    },
    {
      "cell_type": "code",
      "source": [],
      "metadata": {
        "id": "0iU_oxjx1FLj"
      },
      "execution_count": null,
      "outputs": []
    }
  ],
  "metadata": {
    "anaconda-cloud": {},
    "kernelspec": {
      "display_name": "Python 3",
      "language": "python",
      "name": "python3"
    },
    "language_info": {
      "codemirror_mode": {
        "name": "ipython",
        "version": 3
      },
      "file_extension": ".py",
      "mimetype": "text/x-python",
      "name": "python",
      "nbconvert_exporter": "python",
      "pygments_lexer": "ipython3",
      "version": "3.7.6"
    },
    "colab": {
      "provenance": []
    }
  },
  "nbformat": 4,
  "nbformat_minor": 0
}